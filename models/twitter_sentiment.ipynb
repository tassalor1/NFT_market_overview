{
 "cells": [
  {
   "cell_type": "code",
   "execution_count": 12,
   "id": "21258f63",
   "metadata": {},
   "outputs": [],
   "source": [
    "import csv\n",
    "import pandas as pd \n",
    "from transformers import AutoTokenizer, AutoModelForSequenceClassification\n",
    "from scipy.special import softmax\n",
    "import numpy as np"
   ]
  },
  {
   "cell_type": "code",
   "execution_count": 21,
   "id": "43f8b335",
   "metadata": {},
   "outputs": [
    {
     "data": {
      "text/html": [
       "<div>\n",
       "<style scoped>\n",
       "    .dataframe tbody tr th:only-of-type {\n",
       "        vertical-align: middle;\n",
       "    }\n",
       "\n",
       "    .dataframe tbody tr th {\n",
       "        vertical-align: top;\n",
       "    }\n",
       "\n",
       "    .dataframe thead th {\n",
       "        text-align: right;\n",
       "    }\n",
       "</style>\n",
       "<table border=\"1\" class=\"dataframe\">\n",
       "  <thead>\n",
       "    <tr style=\"text-align: right;\">\n",
       "      <th></th>\n",
       "      <th>Tweet ID</th>\n",
       "      <th>Username</th>\n",
       "      <th>User ID</th>\n",
       "      <th>Tweet Date</th>\n",
       "      <th>Text</th>\n",
       "    </tr>\n",
       "  </thead>\n",
       "  <tbody>\n",
       "    <tr>\n",
       "      <th>0</th>\n",
       "      <td>1658216917662834702</td>\n",
       "      <td>sara_b022</td>\n",
       "      <td>1528319102141485062</td>\n",
       "      <td>2023-05-15 21:04:56+00:00</td>\n",
       "      <td>@BlueSparrowfans @queencryptooo #BlueSparrow\\n...</td>\n",
       "    </tr>\n",
       "    <tr>\n",
       "      <th>1</th>\n",
       "      <td>1658216916412932129</td>\n",
       "      <td>yarikdoren</td>\n",
       "      <td>1616809072992583682</td>\n",
       "      <td>2023-05-15 21:04:55+00:00</td>\n",
       "      <td>🏴‍☠️  Ahoy, treasure hunters! I earned my pira...</td>\n",
       "    </tr>\n",
       "    <tr>\n",
       "      <th>2</th>\n",
       "      <td>1658216906199801867</td>\n",
       "      <td>SeizeTheMonkey</td>\n",
       "      <td>1398003143791759368</td>\n",
       "      <td>2023-05-15 21:04:53+00:00</td>\n",
       "      <td>NFT projects’ social media platform comps:\\n\\n...</td>\n",
       "    </tr>\n",
       "    <tr>\n",
       "      <th>3</th>\n",
       "      <td>1658216899765739546</td>\n",
       "      <td>ForestKnight_io</td>\n",
       "      <td>734818764924063745</td>\n",
       "      <td>2023-05-15 21:04:51+00:00</td>\n",
       "      <td>1st place: Rare NFT weapon for Forest knight o...</td>\n",
       "    </tr>\n",
       "    <tr>\n",
       "      <th>4</th>\n",
       "      <td>1658216891989499926</td>\n",
       "      <td>Joax_NFT</td>\n",
       "      <td>1531335738071339008</td>\n",
       "      <td>2023-05-15 21:04:49+00:00</td>\n",
       "      <td>@Zeck_Sol @ARAY_nft @SoAegis @GreediesGood @0x...</td>\n",
       "    </tr>\n",
       "  </tbody>\n",
       "</table>\n",
       "</div>"
      ],
      "text/plain": [
       "              Tweet ID         Username              User ID   \n",
       "0  1658216917662834702        sara_b022  1528319102141485062  \\\n",
       "1  1658216916412932129       yarikdoren  1616809072992583682   \n",
       "2  1658216906199801867   SeizeTheMonkey  1398003143791759368   \n",
       "3  1658216899765739546  ForestKnight_io   734818764924063745   \n",
       "4  1658216891989499926         Joax_NFT  1531335738071339008   \n",
       "\n",
       "                  Tweet Date   \n",
       "0  2023-05-15 21:04:56+00:00  \\\n",
       "1  2023-05-15 21:04:55+00:00   \n",
       "2  2023-05-15 21:04:53+00:00   \n",
       "3  2023-05-15 21:04:51+00:00   \n",
       "4  2023-05-15 21:04:49+00:00   \n",
       "\n",
       "                                                Text  \n",
       "0  @BlueSparrowfans @queencryptooo #BlueSparrow\\n...  \n",
       "1  🏴‍☠️  Ahoy, treasure hunters! I earned my pira...  \n",
       "2  NFT projects’ social media platform comps:\\n\\n...  \n",
       "3  1st place: Rare NFT weapon for Forest knight o...  \n",
       "4  @Zeck_Sol @ARAY_nft @SoAegis @GreediesGood @0x...  "
      ]
     },
     "execution_count": 21,
     "metadata": {},
     "output_type": "execute_result"
    }
   ],
   "source": [
    "df = pd.read_csv(\"C:\\\\Users\\\\Connor\\\\Desktop\\\\Coding\\\\nft_market_a\\\\scripts_\\\\twitter_nft_timeline.csv\")\n",
    "df.head()"
   ]
  },
  {
   "cell_type": "code",
   "execution_count": 22,
   "id": "9554be7d",
   "metadata": {},
   "outputs": [
    {
     "name": "stdout",
     "output_type": "stream",
     "text": [
      "<class 'pandas.core.frame.DataFrame'>\n",
      "RangeIndex: 600 entries, 0 to 599\n",
      "Data columns (total 5 columns):\n",
      " #   Column      Non-Null Count  Dtype \n",
      "---  ------      --------------  ----- \n",
      " 0   Tweet ID    600 non-null    int64 \n",
      " 1   Username    600 non-null    object\n",
      " 2   User ID     600 non-null    int64 \n",
      " 3   Tweet Date  600 non-null    object\n",
      " 4   Text        600 non-null    object\n",
      "dtypes: int64(2), object(3)\n",
      "memory usage: 23.6+ KB\n"
     ]
    }
   ],
   "source": [
    "df.info()"
   ]
  },
  {
   "cell_type": "code",
   "execution_count": 23,
   "id": "27259df2",
   "metadata": {},
   "outputs": [],
   "source": [
    "# Function to clean words up in data\n",
    "def process_text(tweet):\n",
    "    tweet_words = []\n",
    "    for word in tweet.split(' '):\n",
    "        if word.startswith('@') and len(word) > 1: # Converts their username to '@user'\n",
    "            word = '@user'\n",
    "        elif word.startswith('http'): # Converts website address to 'http'\n",
    "            word = \"http\"\n",
    "        tweet_words.append(word)\n",
    "    tweet_proc = \" \".join(tweet_words)\n",
    "    return tweet_proc"
   ]
  },
  {
   "cell_type": "code",
   "execution_count": 24,
   "id": "4f6926b1",
   "metadata": {},
   "outputs": [
    {
     "data": {
      "text/html": [
       "<div>\n",
       "<style scoped>\n",
       "    .dataframe tbody tr th:only-of-type {\n",
       "        vertical-align: middle;\n",
       "    }\n",
       "\n",
       "    .dataframe tbody tr th {\n",
       "        vertical-align: top;\n",
       "    }\n",
       "\n",
       "    .dataframe thead th {\n",
       "        text-align: right;\n",
       "    }\n",
       "</style>\n",
       "<table border=\"1\" class=\"dataframe\">\n",
       "  <thead>\n",
       "    <tr style=\"text-align: right;\">\n",
       "      <th></th>\n",
       "      <th>Tweet ID</th>\n",
       "      <th>Username</th>\n",
       "      <th>User ID</th>\n",
       "      <th>Tweet Date</th>\n",
       "      <th>Text</th>\n",
       "    </tr>\n",
       "  </thead>\n",
       "  <tbody>\n",
       "    <tr>\n",
       "      <th>0</th>\n",
       "      <td>1658216917662834702</td>\n",
       "      <td>sara_b022</td>\n",
       "      <td>1528319102141485062</td>\n",
       "      <td>2023-05-15 21:04:56+00:00</td>\n",
       "      <td>@BlueSparrowfans @queencryptooo #BlueSparrow\\n...</td>\n",
       "    </tr>\n",
       "    <tr>\n",
       "      <th>1</th>\n",
       "      <td>1658216916412932129</td>\n",
       "      <td>yarikdoren</td>\n",
       "      <td>1616809072992583682</td>\n",
       "      <td>2023-05-15 21:04:55+00:00</td>\n",
       "      <td>🏴‍☠️  Ahoy, treasure hunters! I earned my pira...</td>\n",
       "    </tr>\n",
       "    <tr>\n",
       "      <th>2</th>\n",
       "      <td>1658216906199801867</td>\n",
       "      <td>SeizeTheMonkey</td>\n",
       "      <td>1398003143791759368</td>\n",
       "      <td>2023-05-15 21:04:53+00:00</td>\n",
       "      <td>NFT projects’ social media platform comps:\\n\\n...</td>\n",
       "    </tr>\n",
       "    <tr>\n",
       "      <th>3</th>\n",
       "      <td>1658216899765739546</td>\n",
       "      <td>ForestKnight_io</td>\n",
       "      <td>734818764924063745</td>\n",
       "      <td>2023-05-15 21:04:51+00:00</td>\n",
       "      <td>1st place: Rare NFT weapon for Forest knight o...</td>\n",
       "    </tr>\n",
       "    <tr>\n",
       "      <th>4</th>\n",
       "      <td>1658216891989499926</td>\n",
       "      <td>Joax_NFT</td>\n",
       "      <td>1531335738071339008</td>\n",
       "      <td>2023-05-15 21:04:49+00:00</td>\n",
       "      <td>@Zeck_Sol @ARAY_nft @SoAegis @GreediesGood @0x...</td>\n",
       "    </tr>\n",
       "  </tbody>\n",
       "</table>\n",
       "</div>"
      ],
      "text/plain": [
       "              Tweet ID         Username              User ID   \n",
       "0  1658216917662834702        sara_b022  1528319102141485062  \\\n",
       "1  1658216916412932129       yarikdoren  1616809072992583682   \n",
       "2  1658216906199801867   SeizeTheMonkey  1398003143791759368   \n",
       "3  1658216899765739546  ForestKnight_io   734818764924063745   \n",
       "4  1658216891989499926         Joax_NFT  1531335738071339008   \n",
       "\n",
       "                  Tweet Date   \n",
       "0  2023-05-15 21:04:56+00:00  \\\n",
       "1  2023-05-15 21:04:55+00:00   \n",
       "2  2023-05-15 21:04:53+00:00   \n",
       "3  2023-05-15 21:04:51+00:00   \n",
       "4  2023-05-15 21:04:49+00:00   \n",
       "\n",
       "                                                Text  \n",
       "0  @BlueSparrowfans @queencryptooo #BlueSparrow\\n...  \n",
       "1  🏴‍☠️  Ahoy, treasure hunters! I earned my pira...  \n",
       "2  NFT projects’ social media platform comps:\\n\\n...  \n",
       "3  1st place: Rare NFT weapon for Forest knight o...  \n",
       "4  @Zeck_Sol @ARAY_nft @SoAegis @GreediesGood @0x...  "
      ]
     },
     "execution_count": 24,
     "metadata": {},
     "output_type": "execute_result"
    }
   ],
   "source": [
    "df.head()"
   ]
  },
  {
   "cell_type": "code",
   "execution_count": 25,
   "id": "b7bb6292",
   "metadata": {},
   "outputs": [
    {
     "name": "stdout",
     "output_type": "stream",
     "text": [
      "0      @user @user #BlueSparrow\\n#BlueSparrowToken\\n#...\n",
      "1      🏴‍☠️  Ahoy, treasure hunters! I earned my pira...\n",
      "2      NFT projects’ social media platform comps:\\n\\n...\n",
      "3      1st place: Rare NFT weapon for Forest knight o...\n",
      "4      @user @user @user @user @user Bro... Lets get it!\n",
      "                             ...                        \n",
      "595    🪂Airdrop for NFT holders VoldiAI !!\\n💰Owners o...\n",
      "596                        @user Is already droppinh sir\n",
      "597    @user @user @user @user @user Hey  👋 let's col...\n",
      "598    The first Bitcoin purchase ever was for a JPEG...\n",
      "599    @user @user @user @user @user @user @user @use...\n",
      "Name: processed_text, Length: 600, dtype: object\n"
     ]
    }
   ],
   "source": [
    "df['processed_text'] = df['Text'].apply(process_text)\n",
    "\n",
    "print(df['processed_text'])"
   ]
  },
  {
   "cell_type": "code",
   "execution_count": 26,
   "id": "7c99e787",
   "metadata": {},
   "outputs": [],
   "source": [
    "# Load Model\n",
    "# Specify the model\n",
    "roberta = \"cardiffnlp/twitter-roberta-base-sentiment\"\n",
    "\n",
    "# Load model\n",
    "model = AutoModelForSequenceClassification.from_pretrained(roberta)\n",
    "\n",
    "# Load pre-trained tokenizer\n",
    "tokenizer = AutoTokenizer.from_pretrained(roberta)\n",
    "\n",
    "# Define labels\n",
    "labels = ['Negative', 'Neutral', 'Positive']"
   ]
  },
  {
   "cell_type": "code",
   "execution_count": 27,
   "id": "65bb5d5b",
   "metadata": {
    "scrolled": true
   },
   "outputs": [
    {
     "name": "stdout",
     "output_type": "stream",
     "text": [
      "Positive: 0.4583768867146379\n"
     ]
    }
   ],
   "source": [
    "# Sentiment analysis\n",
    "\n",
    "# Initialise a variable to store the total scores\n",
    "total_scores = np.zeros((1, len(labels)))\n",
    "\n",
    "for tweet_proc in df['processed_text']:\n",
    "    # Tokenize the tweet and return PyTorch tensors\n",
    "    encoded_tweet = tokenizer(tweet_proc, return_tensors='pt')\n",
    "    \n",
    "    # Feed the encoded input IDs and attention masks to get output logits\n",
    "    output = model(encoded_tweet['input_ids'], encoded_tweet['attention_mask'])\n",
    "    \n",
    "    # Detach the logits from the computational graph and convert them into a NumPy array\n",
    "    logits = output.logits.detach().numpy()\n",
    "    \n",
    "    # Apply the softmax function to the logits to obtain probability scores for each category\n",
    "    scores = np.exp(logits) / np.sum(np.exp(logits), axis=1, keepdims=True)\n",
    "\n",
    "    \n",
    "    # Add the scores to the total scores\n",
    "    total_scores += scores\n",
    "    \n",
    "# Calculate the average scores \n",
    "average_scores = total_scores / len(df['processed_text'])\n",
    "\n",
    "# Find the index of the highest average score\n",
    "max_index = np.argmax(average_scores)\n",
    "\n",
    "print(f\"{labels[max_index]}: {average_scores[0][max_index]}\")"
   ]
  },
  {
   "cell_type": "code",
   "execution_count": null,
   "id": "adb7f210",
   "metadata": {},
   "outputs": [],
   "source": []
  }
 ],
 "metadata": {
  "kernelspec": {
   "display_name": "Python 3 (ipykernel)",
   "language": "python",
   "name": "python3"
  },
  "language_info": {
   "codemirror_mode": {
    "name": "ipython",
    "version": 3
   },
   "file_extension": ".py",
   "mimetype": "text/x-python",
   "name": "python",
   "nbconvert_exporter": "python",
   "pygments_lexer": "ipython3",
   "version": "3.11.1"
  }
 },
 "nbformat": 4,
 "nbformat_minor": 5
}
