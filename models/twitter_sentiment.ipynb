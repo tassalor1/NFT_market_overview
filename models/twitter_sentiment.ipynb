{
 "cells": [
  {
   "cell_type": "code",
   "execution_count": 1,
   "id": "21258f63",
   "metadata": {},
   "outputs": [],
   "source": [
    "import csv\n",
    "import pandas as pd \n",
    "from transformers import AutoTokenizer, TFAutoModelForSequenceClassification\n",
    "from scipy.special import softmax"
   ]
  },
  {
   "cell_type": "code",
   "execution_count": 7,
   "id": "43f8b335",
   "metadata": {},
   "outputs": [
    {
     "data": {
      "text/html": [
       "<div>\n",
       "<style scoped>\n",
       "    .dataframe tbody tr th:only-of-type {\n",
       "        vertical-align: middle;\n",
       "    }\n",
       "\n",
       "    .dataframe tbody tr th {\n",
       "        vertical-align: top;\n",
       "    }\n",
       "\n",
       "    .dataframe thead th {\n",
       "        text-align: right;\n",
       "    }\n",
       "</style>\n",
       "<table border=\"1\" class=\"dataframe\">\n",
       "  <thead>\n",
       "    <tr style=\"text-align: right;\">\n",
       "      <th></th>\n",
       "      <th>Tweet ID</th>\n",
       "      <th>Username</th>\n",
       "      <th>User ID</th>\n",
       "      <th>Tweet Date</th>\n",
       "      <th>Text</th>\n",
       "    </tr>\n",
       "  </thead>\n",
       "  <tbody>\n",
       "    <tr>\n",
       "      <th>0</th>\n",
       "      <td>1645805247682727938</td>\n",
       "      <td>DegenerateNews</td>\n",
       "      <td>1505874016761831430</td>\n",
       "      <td>2023-04-11 15:05:23+00:00</td>\n",
       "      <td>ICYMI: @OthersideMeta #11260 WITH KODA #9975 S...</td>\n",
       "    </tr>\n",
       "    <tr>\n",
       "      <th>1</th>\n",
       "      <td>1645794027399413761</td>\n",
       "      <td>DegenerateNews</td>\n",
       "      <td>1505874016761831430</td>\n",
       "      <td>2023-04-11 14:20:48+00:00</td>\n",
       "      <td>BREAKING: $SOL PUMPS TO $23.11\\n\\nSOURCE: @Coi...</td>\n",
       "    </tr>\n",
       "    <tr>\n",
       "      <th>2</th>\n",
       "      <td>1645789641063415810</td>\n",
       "      <td>DegenerateNews</td>\n",
       "      <td>1505874016761831430</td>\n",
       "      <td>2023-04-11 14:03:22+00:00</td>\n",
       "      <td>ICYMI: @helium TO MIGRATE TO @solana IN 7 DAYS...</td>\n",
       "    </tr>\n",
       "    <tr>\n",
       "      <th>3</th>\n",
       "      <td>1645770403187441664</td>\n",
       "      <td>DegenerateNews</td>\n",
       "      <td>1505874016761831430</td>\n",
       "      <td>2023-04-11 12:46:55+00:00</td>\n",
       "      <td>SOURCE: https://t.co/YiyTPsekyd</td>\n",
       "    </tr>\n",
       "    <tr>\n",
       "      <th>4</th>\n",
       "      <td>1645770400331120642</td>\n",
       "      <td>DegenerateNews</td>\n",
       "      <td>1505874016761831430</td>\n",
       "      <td>2023-04-11 12:46:55+00:00</td>\n",
       "      <td>BREAKING: SOLANA 24H NFT SALES VOLUME INCREASE...</td>\n",
       "    </tr>\n",
       "  </tbody>\n",
       "</table>\n",
       "</div>"
      ],
      "text/plain": [
       "              Tweet ID        Username              User ID   \n",
       "0  1645805247682727938  DegenerateNews  1505874016761831430  \\\n",
       "1  1645794027399413761  DegenerateNews  1505874016761831430   \n",
       "2  1645789641063415810  DegenerateNews  1505874016761831430   \n",
       "3  1645770403187441664  DegenerateNews  1505874016761831430   \n",
       "4  1645770400331120642  DegenerateNews  1505874016761831430   \n",
       "\n",
       "                  Tweet Date   \n",
       "0  2023-04-11 15:05:23+00:00  \\\n",
       "1  2023-04-11 14:20:48+00:00   \n",
       "2  2023-04-11 14:03:22+00:00   \n",
       "3  2023-04-11 12:46:55+00:00   \n",
       "4  2023-04-11 12:46:55+00:00   \n",
       "\n",
       "                                                Text  \n",
       "0  ICYMI: @OthersideMeta #11260 WITH KODA #9975 S...  \n",
       "1  BREAKING: $SOL PUMPS TO $23.11\\n\\nSOURCE: @Coi...  \n",
       "2  ICYMI: @helium TO MIGRATE TO @solana IN 7 DAYS...  \n",
       "3                    SOURCE: https://t.co/YiyTPsekyd  \n",
       "4  BREAKING: SOLANA 24H NFT SALES VOLUME INCREASE...  "
      ]
     },
     "execution_count": 7,
     "metadata": {},
     "output_type": "execute_result"
    }
   ],
   "source": [
    "df = pd.read_csv(\"C:\\\\Users\\\\Connor\\\\Desktop\\\\Coding\\\\nft_market_a\\\\data\\\\raw_data\\\\twitter_nft_timeline.csv\")\n",
    "df.head()"
   ]
  },
  {
   "cell_type": "code",
   "execution_count": 20,
   "id": "b7c82010",
   "metadata": {},
   "outputs": [],
   "source": [
    "def process_text(tweet):\n",
    "    tweet_words = []\n",
    "    for word in tweet.split(' '):\n",
    "        if word.startswith('@') and len(word) > 1:\n",
    "            word = '@user'\n",
    "        elif word.startswith('http'):\n",
    "            word = \"http\"\n",
    "            tweet_words.append(word)\n",
    "    return tweet_words"
   ]
  },
  {
   "cell_type": "code",
   "execution_count": 21,
   "id": "44101182",
   "metadata": {},
   "outputs": [
    {
     "name": "stdout",
     "output_type": "stream",
     "text": [
      "0     [http]\n",
      "1     [http]\n",
      "2     [http]\n",
      "3     [http]\n",
      "4     [http]\n",
      "       ...  \n",
      "95    [http]\n",
      "96    [http]\n",
      "97    [http]\n",
      "98    [http]\n",
      "99    [http]\n",
      "Name: processed_text, Length: 100, dtype: object\n"
     ]
    }
   ],
   "source": [
    "df['processed_text'] = df['Text'].apply(process_text)\n",
    "\n",
    "print(df['processed_text'])"
   ]
  },
  {
   "cell_type": "code",
   "execution_count": null,
   "id": "2d6c87a3",
   "metadata": {},
   "outputs": [],
   "source": []
  }
 ],
 "metadata": {
  "kernelspec": {
   "display_name": "Python 3 (ipykernel)",
   "language": "python",
   "name": "python3"
  },
  "language_info": {
   "codemirror_mode": {
    "name": "ipython",
    "version": 3
   },
   "file_extension": ".py",
   "mimetype": "text/x-python",
   "name": "python",
   "nbconvert_exporter": "python",
   "pygments_lexer": "ipython3",
   "version": "3.11.1"
  }
 },
 "nbformat": 4,
 "nbformat_minor": 5
}
