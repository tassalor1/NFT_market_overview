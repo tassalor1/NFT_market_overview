{
 "cells": [
  {
   "cell_type": "code",
   "execution_count": 2,
   "id": "21258f63",
   "metadata": {},
   "outputs": [],
   "source": [
    "import csv\n",
    "import pandas as pd \n",
    "from transformers import AutoTokenizer, AutoModelForSequenceClassification\n",
    "from scipy.special import softmax\n",
    "import numpy as np\n",
    "import pickle"
   ]
  },
  {
   "cell_type": "code",
   "execution_count": 3,
   "id": "43f8b335",
   "metadata": {},
   "outputs": [
    {
     "data": {
      "text/html": [
       "<div>\n",
       "<style scoped>\n",
       "    .dataframe tbody tr th:only-of-type {\n",
       "        vertical-align: middle;\n",
       "    }\n",
       "\n",
       "    .dataframe tbody tr th {\n",
       "        vertical-align: top;\n",
       "    }\n",
       "\n",
       "    .dataframe thead th {\n",
       "        text-align: right;\n",
       "    }\n",
       "</style>\n",
       "<table border=\"1\" class=\"dataframe\">\n",
       "  <thead>\n",
       "    <tr style=\"text-align: right;\">\n",
       "      <th></th>\n",
       "      <th>Tweet ID</th>\n",
       "      <th>Username</th>\n",
       "      <th>User ID</th>\n",
       "      <th>Tweet Date</th>\n",
       "      <th>Text</th>\n",
       "    </tr>\n",
       "  </thead>\n",
       "  <tbody>\n",
       "    <tr>\n",
       "      <th>0</th>\n",
       "      <td>1658583425047994368</td>\n",
       "      <td>SoldaDDH</td>\n",
       "      <td>1496876147380006915</td>\n",
       "      <td>2023-05-16 21:21:18+00:00</td>\n",
       "      <td>@factions_nft @_MatrixNFT @0xPolygonLabs YEAH</td>\n",
       "    </tr>\n",
       "    <tr>\n",
       "      <th>1</th>\n",
       "      <td>1658583423705808897</td>\n",
       "      <td>Kresusofficial</td>\n",
       "      <td>1582118621429391361</td>\n",
       "      <td>2023-05-16 21:21:17+00:00</td>\n",
       "      <td>🎨 Dive into the #NFT world with Kresus! \\n\\nMi...</td>\n",
       "    </tr>\n",
       "    <tr>\n",
       "      <th>2</th>\n",
       "      <td>1658583409609035776</td>\n",
       "      <td>JohnDaWinters</td>\n",
       "      <td>1450824144908652551</td>\n",
       "      <td>2023-05-16 21:21:14+00:00</td>\n",
       "      <td>XRP Ledger Among Top 10 NFT Chains with Over 1...</td>\n",
       "    </tr>\n",
       "    <tr>\n",
       "      <th>3</th>\n",
       "      <td>1658583403753533441</td>\n",
       "      <td>deLarg0</td>\n",
       "      <td>113960166</td>\n",
       "      <td>2023-05-16 21:21:13+00:00</td>\n",
       "      <td>@ulices_vc_nft caileeee</td>\n",
       "    </tr>\n",
       "    <tr>\n",
       "      <th>4</th>\n",
       "      <td>1658583392873488387</td>\n",
       "      <td>ContentLawyer</td>\n",
       "      <td>209614352</td>\n",
       "      <td>2023-05-16 21:21:10+00:00</td>\n",
       "      <td>First Free Spacebrat #NFT Minted Over 300,000 ...</td>\n",
       "    </tr>\n",
       "  </tbody>\n",
       "</table>\n",
       "</div>"
      ],
      "text/plain": [
       "              Tweet ID        Username              User ID   \n",
       "0  1658583425047994368        SoldaDDH  1496876147380006915  \\\n",
       "1  1658583423705808897  Kresusofficial  1582118621429391361   \n",
       "2  1658583409609035776   JohnDaWinters  1450824144908652551   \n",
       "3  1658583403753533441         deLarg0            113960166   \n",
       "4  1658583392873488387   ContentLawyer            209614352   \n",
       "\n",
       "                  Tweet Date   \n",
       "0  2023-05-16 21:21:18+00:00  \\\n",
       "1  2023-05-16 21:21:17+00:00   \n",
       "2  2023-05-16 21:21:14+00:00   \n",
       "3  2023-05-16 21:21:13+00:00   \n",
       "4  2023-05-16 21:21:10+00:00   \n",
       "\n",
       "                                                Text  \n",
       "0      @factions_nft @_MatrixNFT @0xPolygonLabs YEAH  \n",
       "1  🎨 Dive into the #NFT world with Kresus! \\n\\nMi...  \n",
       "2  XRP Ledger Among Top 10 NFT Chains with Over 1...  \n",
       "3                            @ulices_vc_nft caileeee  \n",
       "4  First Free Spacebrat #NFT Minted Over 300,000 ...  "
      ]
     },
     "execution_count": 3,
     "metadata": {},
     "output_type": "execute_result"
    }
   ],
   "source": [
    "df = pd.read_csv(\"C:\\\\Users\\\\Connor\\\\Desktop\\\\Coding\\\\nft_market_a\\\\scripts_\\\\twitter_nft_timeline.csv\")\n",
    "df.head()"
   ]
  },
  {
   "cell_type": "code",
   "execution_count": 4,
   "id": "8982d730",
   "metadata": {},
   "outputs": [
    {
     "name": "stdout",
     "output_type": "stream",
     "text": [
      "<class 'pandas.core.frame.DataFrame'>\n",
      "RangeIndex: 17 entries, 0 to 16\n",
      "Data columns (total 5 columns):\n",
      " #   Column      Non-Null Count  Dtype \n",
      "---  ------      --------------  ----- \n",
      " 0   Tweet ID    17 non-null     int64 \n",
      " 1   Username    17 non-null     object\n",
      " 2   User ID     17 non-null     int64 \n",
      " 3   Tweet Date  17 non-null     object\n",
      " 4   Text        17 non-null     object\n",
      "dtypes: int64(2), object(3)\n",
      "memory usage: 808.0+ bytes\n"
     ]
    }
   ],
   "source": [
    "df.info()"
   ]
  },
  {
   "cell_type": "code",
   "execution_count": 5,
   "id": "27259df2",
   "metadata": {},
   "outputs": [],
   "source": [
    "# Function to clean words up in data\n",
    "def process_text(tweet):\n",
    "    tweet_words = []\n",
    "    for word in tweet.split(' '):\n",
    "        if word.startswith('@') and len(word) > 1: # Converts their username to '@user'\n",
    "            word = '@user'\n",
    "        elif word.startswith('http'): # Converts website address to 'http'\n",
    "            word = \"http\"\n",
    "        tweet_words.append(word)\n",
    "    tweet_proc = \" \".join(tweet_words)\n",
    "    return tweet_proc"
   ]
  },
  {
   "cell_type": "code",
   "execution_count": 6,
   "id": "bfe6b76a",
   "metadata": {},
   "outputs": [
    {
     "data": {
      "text/html": [
       "<div>\n",
       "<style scoped>\n",
       "    .dataframe tbody tr th:only-of-type {\n",
       "        vertical-align: middle;\n",
       "    }\n",
       "\n",
       "    .dataframe tbody tr th {\n",
       "        vertical-align: top;\n",
       "    }\n",
       "\n",
       "    .dataframe thead th {\n",
       "        text-align: right;\n",
       "    }\n",
       "</style>\n",
       "<table border=\"1\" class=\"dataframe\">\n",
       "  <thead>\n",
       "    <tr style=\"text-align: right;\">\n",
       "      <th></th>\n",
       "      <th>Tweet ID</th>\n",
       "      <th>Username</th>\n",
       "      <th>User ID</th>\n",
       "      <th>Tweet Date</th>\n",
       "      <th>Text</th>\n",
       "    </tr>\n",
       "  </thead>\n",
       "  <tbody>\n",
       "    <tr>\n",
       "      <th>0</th>\n",
       "      <td>1658583425047994368</td>\n",
       "      <td>SoldaDDH</td>\n",
       "      <td>1496876147380006915</td>\n",
       "      <td>2023-05-16 21:21:18+00:00</td>\n",
       "      <td>@factions_nft @_MatrixNFT @0xPolygonLabs YEAH</td>\n",
       "    </tr>\n",
       "    <tr>\n",
       "      <th>1</th>\n",
       "      <td>1658583423705808897</td>\n",
       "      <td>Kresusofficial</td>\n",
       "      <td>1582118621429391361</td>\n",
       "      <td>2023-05-16 21:21:17+00:00</td>\n",
       "      <td>🎨 Dive into the #NFT world with Kresus! \\n\\nMi...</td>\n",
       "    </tr>\n",
       "    <tr>\n",
       "      <th>2</th>\n",
       "      <td>1658583409609035776</td>\n",
       "      <td>JohnDaWinters</td>\n",
       "      <td>1450824144908652551</td>\n",
       "      <td>2023-05-16 21:21:14+00:00</td>\n",
       "      <td>XRP Ledger Among Top 10 NFT Chains with Over 1...</td>\n",
       "    </tr>\n",
       "    <tr>\n",
       "      <th>3</th>\n",
       "      <td>1658583403753533441</td>\n",
       "      <td>deLarg0</td>\n",
       "      <td>113960166</td>\n",
       "      <td>2023-05-16 21:21:13+00:00</td>\n",
       "      <td>@ulices_vc_nft caileeee</td>\n",
       "    </tr>\n",
       "    <tr>\n",
       "      <th>4</th>\n",
       "      <td>1658583392873488387</td>\n",
       "      <td>ContentLawyer</td>\n",
       "      <td>209614352</td>\n",
       "      <td>2023-05-16 21:21:10+00:00</td>\n",
       "      <td>First Free Spacebrat #NFT Minted Over 300,000 ...</td>\n",
       "    </tr>\n",
       "  </tbody>\n",
       "</table>\n",
       "</div>"
      ],
      "text/plain": [
       "              Tweet ID        Username              User ID   \n",
       "0  1658583425047994368        SoldaDDH  1496876147380006915  \\\n",
       "1  1658583423705808897  Kresusofficial  1582118621429391361   \n",
       "2  1658583409609035776   JohnDaWinters  1450824144908652551   \n",
       "3  1658583403753533441         deLarg0            113960166   \n",
       "4  1658583392873488387   ContentLawyer            209614352   \n",
       "\n",
       "                  Tweet Date   \n",
       "0  2023-05-16 21:21:18+00:00  \\\n",
       "1  2023-05-16 21:21:17+00:00   \n",
       "2  2023-05-16 21:21:14+00:00   \n",
       "3  2023-05-16 21:21:13+00:00   \n",
       "4  2023-05-16 21:21:10+00:00   \n",
       "\n",
       "                                                Text  \n",
       "0      @factions_nft @_MatrixNFT @0xPolygonLabs YEAH  \n",
       "1  🎨 Dive into the #NFT world with Kresus! \\n\\nMi...  \n",
       "2  XRP Ledger Among Top 10 NFT Chains with Over 1...  \n",
       "3                            @ulices_vc_nft caileeee  \n",
       "4  First Free Spacebrat #NFT Minted Over 300,000 ...  "
      ]
     },
     "execution_count": 6,
     "metadata": {},
     "output_type": "execute_result"
    }
   ],
   "source": [
    "df.head()"
   ]
  },
  {
   "cell_type": "code",
   "execution_count": 7,
   "id": "b7bb6292",
   "metadata": {},
   "outputs": [
    {
     "name": "stdout",
     "output_type": "stream",
     "text": [
      "0                                @user @user @user YEAH\n",
      "1     🎨 Dive into the #NFT world with Kresus! \\n\\nMi...\n",
      "2     XRP Ledger Among Top 10 NFT Chains with Over 1...\n",
      "3                                        @user caileeee\n",
      "4     First Free Spacebrat #NFT Minted Over 300,000 ...\n",
      "5     @user dammnn welcome diabetes :P ahhaha GM and...\n",
      "6     I've just created an NFT Collection on Goerli ...\n",
      "7     Ubisoft Wants To Sell Ezio's 'Digital Soul' An...\n",
      "8     #NFT Time! http one day volume is 34.68 $eth\\n...\n",
      "9     Another, and probably my last Nft stream on wh...\n",
      "10        Let’s $SWTS, let’s $MOB, let’s Goo @user http\n",
      "11                   @user @user $OXBT let’s fucking go\n",
      "12                         l wanna buy cool #NFT 😍😍💸💸⬇️\n",
      "13    @user @user You know it! @user was a rug and t...\n",
      "14    @user @user Oh fxck!!! I need to go undock my ...\n",
      "15    @user @user Thank you so much for joining us t...\n",
      "16                        @user Accept the challenge. k\n",
      "Name: processed_text, dtype: object\n"
     ]
    }
   ],
   "source": [
    "df['processed_text'] = df['Text'].apply(process_text)\n",
    "\n",
    "print(df['processed_text'])"
   ]
  },
  {
   "cell_type": "code",
   "execution_count": 8,
   "id": "7c99e787",
   "metadata": {},
   "outputs": [],
   "source": [
    "# Load Model\n",
    "# Specify the model\n",
    "roberta = \"cardiffnlp/twitter-roberta-base-sentiment\"\n",
    "\n",
    "# Load model\n",
    "model = AutoModelForSequenceClassification.from_pretrained(roberta)\n",
    "\n",
    "# Load pre-trained tokenizer\n",
    "tokenizer = AutoTokenizer.from_pretrained(roberta)\n",
    "\n",
    "# Define labels\n",
    "labels = ['Negative', 'Neutral', 'Positive']"
   ]
  },
  {
   "cell_type": "code",
   "execution_count": 10,
   "id": "65bb5d5b",
   "metadata": {
    "scrolled": true
   },
   "outputs": [
    {
     "name": "stdout",
     "output_type": "stream",
     "text": [
      "Positive: 0.43559683295076385\n"
     ]
    }
   ],
   "source": [
    "# Sentiment analysis\n",
    "\n",
    "# Initialise a variable to store the total scores\n",
    "total_scores = np.zeros((1, len(labels)))\n",
    "\n",
    "for tweet_proc in df['processed_text']:\n",
    "    # Tokenize the tweet and return PyTorch tensors\n",
    "    encoded_tweet = tokenizer(tweet_proc, return_tensors='pt')\n",
    "    \n",
    "    # Feed the encoded input IDs and attention masks to get output logits\n",
    "    output = model(encoded_tweet['input_ids'], encoded_tweet['attention_mask'])\n",
    "    \n",
    "    # Detach the logits from the computational graph and convert them into a NumPy array\n",
    "    logits = output.logits.detach().numpy()\n",
    "    \n",
    "    # Apply the softmax function to the logits to obtain probability scores for each category\n",
    "    scores = np.exp(logits) / np.sum(np.exp(logits), axis=1, keepdims=True)\n",
    "\n",
    "    \n",
    "    # Add the scores to the total scores\n",
    "    total_scores += scores\n",
    "    \n",
    "# Calculate the average scores \n",
    "average_scores = total_scores / len(df['processed_text'])\n",
    "\n",
    "# Find the index of the highest average score\n",
    "max_index = np.argmax(average_scores)\n",
    "\n",
    "print(f\"{labels[max_index]}: {average_scores[0][max_index]}\")"
   ]
  },
  {
   "cell_type": "code",
   "execution_count": 12,
   "id": "20054bcf",
   "metadata": {},
   "outputs": [],
   "source": [
    "# Save model\n",
    "model.save_pretrained('C:\\\\Users\\\\Connor\\\\Desktop\\\\Coding\\\\nft_market_a\\\\models\\\\roberta_sentiment_model')"
   ]
  }
 ],
 "metadata": {
  "kernelspec": {
   "display_name": "Python 3 (ipykernel)",
   "language": "python",
   "name": "python3"
  },
  "language_info": {
   "codemirror_mode": {
    "name": "ipython",
    "version": 3
   },
   "file_extension": ".py",
   "mimetype": "text/x-python",
   "name": "python",
   "nbconvert_exporter": "python",
   "pygments_lexer": "ipython3",
   "version": "3.11.1"
  }
 },
 "nbformat": 4,
 "nbformat_minor": 5
}
