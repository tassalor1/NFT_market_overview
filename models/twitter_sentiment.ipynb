{
 "cells": [
  {
   "cell_type": "code",
   "execution_count": 44,
   "id": "21258f63",
   "metadata": {},
   "outputs": [],
   "source": [
    "import csv\n",
    "import pandas as pd \n",
    "from transformers import AutoTokenizer, AutoModelForSequenceClassification\n",
    "from scipy.special import softmax\n",
    "import numpy as np"
   ]
  },
  {
   "cell_type": "code",
   "execution_count": 45,
   "id": "43f8b335",
   "metadata": {},
   "outputs": [
    {
     "data": {
      "text/html": [
       "<div>\n",
       "<style scoped>\n",
       "    .dataframe tbody tr th:only-of-type {\n",
       "        vertical-align: middle;\n",
       "    }\n",
       "\n",
       "    .dataframe tbody tr th {\n",
       "        vertical-align: top;\n",
       "    }\n",
       "\n",
       "    .dataframe thead th {\n",
       "        text-align: right;\n",
       "    }\n",
       "</style>\n",
       "<table border=\"1\" class=\"dataframe\">\n",
       "  <thead>\n",
       "    <tr style=\"text-align: right;\">\n",
       "      <th></th>\n",
       "      <th>Tweet ID</th>\n",
       "      <th>Username</th>\n",
       "      <th>User ID</th>\n",
       "      <th>Tweet Date</th>\n",
       "      <th>Text</th>\n",
       "    </tr>\n",
       "  </thead>\n",
       "  <tbody>\n",
       "    <tr>\n",
       "      <th>0</th>\n",
       "      <td>1645805247682727938</td>\n",
       "      <td>DegenerateNews</td>\n",
       "      <td>1505874016761831430</td>\n",
       "      <td>2023-04-11 15:05:23+00:00</td>\n",
       "      <td>ICYMI: @OthersideMeta #11260 WITH KODA #9975 S...</td>\n",
       "    </tr>\n",
       "    <tr>\n",
       "      <th>1</th>\n",
       "      <td>1645794027399413761</td>\n",
       "      <td>DegenerateNews</td>\n",
       "      <td>1505874016761831430</td>\n",
       "      <td>2023-04-11 14:20:48+00:00</td>\n",
       "      <td>BREAKING: $SOL PUMPS TO $23.11\\n\\nSOURCE: @Coi...</td>\n",
       "    </tr>\n",
       "    <tr>\n",
       "      <th>2</th>\n",
       "      <td>1645789641063415810</td>\n",
       "      <td>DegenerateNews</td>\n",
       "      <td>1505874016761831430</td>\n",
       "      <td>2023-04-11 14:03:22+00:00</td>\n",
       "      <td>ICYMI: @helium TO MIGRATE TO @solana IN 7 DAYS...</td>\n",
       "    </tr>\n",
       "    <tr>\n",
       "      <th>3</th>\n",
       "      <td>1645770403187441664</td>\n",
       "      <td>DegenerateNews</td>\n",
       "      <td>1505874016761831430</td>\n",
       "      <td>2023-04-11 12:46:55+00:00</td>\n",
       "      <td>SOURCE: https://t.co/YiyTPsekyd</td>\n",
       "    </tr>\n",
       "    <tr>\n",
       "      <th>4</th>\n",
       "      <td>1645770400331120642</td>\n",
       "      <td>DegenerateNews</td>\n",
       "      <td>1505874016761831430</td>\n",
       "      <td>2023-04-11 12:46:55+00:00</td>\n",
       "      <td>BREAKING: SOLANA 24H NFT SALES VOLUME INCREASE...</td>\n",
       "    </tr>\n",
       "  </tbody>\n",
       "</table>\n",
       "</div>"
      ],
      "text/plain": [
       "              Tweet ID        Username              User ID   \n",
       "0  1645805247682727938  DegenerateNews  1505874016761831430  \\\n",
       "1  1645794027399413761  DegenerateNews  1505874016761831430   \n",
       "2  1645789641063415810  DegenerateNews  1505874016761831430   \n",
       "3  1645770403187441664  DegenerateNews  1505874016761831430   \n",
       "4  1645770400331120642  DegenerateNews  1505874016761831430   \n",
       "\n",
       "                  Tweet Date   \n",
       "0  2023-04-11 15:05:23+00:00  \\\n",
       "1  2023-04-11 14:20:48+00:00   \n",
       "2  2023-04-11 14:03:22+00:00   \n",
       "3  2023-04-11 12:46:55+00:00   \n",
       "4  2023-04-11 12:46:55+00:00   \n",
       "\n",
       "                                                Text  \n",
       "0  ICYMI: @OthersideMeta #11260 WITH KODA #9975 S...  \n",
       "1  BREAKING: $SOL PUMPS TO $23.11\\n\\nSOURCE: @Coi...  \n",
       "2  ICYMI: @helium TO MIGRATE TO @solana IN 7 DAYS...  \n",
       "3                    SOURCE: https://t.co/YiyTPsekyd  \n",
       "4  BREAKING: SOLANA 24H NFT SALES VOLUME INCREASE...  "
      ]
     },
     "execution_count": 45,
     "metadata": {},
     "output_type": "execute_result"
    }
   ],
   "source": [
    "df = pd.read_csv(\"C:\\\\Users\\\\Connor\\\\Desktop\\\\Coding\\\\nft_market_a\\\\data\\\\raw_data\\\\twitter_nft_timeline.csv\")\n",
    "df.head()"
   ]
  },
  {
   "cell_type": "code",
   "execution_count": 47,
   "id": "27259df2",
   "metadata": {},
   "outputs": [],
   "source": [
    "def process_text(tweet):\n",
    "    tweet_words = []\n",
    "    for word in tweet.split(' '):\n",
    "        if word.startswith('@') and len(word) > 1:\n",
    "            word = '@user'\n",
    "        elif word.startswith('http'):\n",
    "            word = \"http\"\n",
    "        tweet_words.append(word)\n",
    "    tweet_proc = \" \".join(tweet_words)\n",
    "    return tweet_proc"
   ]
  },
  {
   "cell_type": "code",
   "execution_count": 48,
   "id": "b7bb6292",
   "metadata": {},
   "outputs": [
    {
     "name": "stdout",
     "output_type": "stream",
     "text": [
      "0     ICYMI: @user #11260 WITH KODA #9975 SOLD FOR 2...\n",
      "1     BREAKING: $SOL PUMPS TO $23.11\\n\\nSOURCE: @use...\n",
      "2       ICYMI: @user TO MIGRATE TO @user IN 7 DAYS http\n",
      "3                                          SOURCE: http\n",
      "4     BREAKING: SOLANA 24H NFT SALES VOLUME INCREASE...\n",
      "                            ...                        \n",
      "95    BREAKING: A PROJECT ON @user RAISED 921 $ETH (...\n",
      "96    ICYMI: @user PARTNERED WITH @user TO BRING AN ...\n",
      "97                                         SOURCE: http\n",
      "98    BREAKING: @user DISCLOSES THAT @user WAS ONCE ...\n",
      "99         BREAKING: @user TEASES \"HYPERSPACE PRO\" http\n",
      "Name: processed_text, Length: 100, dtype: object\n"
     ]
    }
   ],
   "source": [
    "df['processed_text'] = df['Text'].apply(process_text)\n",
    "\n",
    "print(df['processed_text'])"
   ]
  },
  {
   "cell_type": "code",
   "execution_count": 49,
   "id": "7c99e787",
   "metadata": {},
   "outputs": [],
   "source": [
    "# Load Model\n",
    "roberta = \"cardiffnlp/twitter-roberta-base-sentiment\"\n",
    "\n",
    "model = AutoModelForSequenceClassification.from_pretrained(roberta)\n",
    "\n",
    "tokenizer = AutoTokenizer.from_pretrained(roberta)\n",
    "\n",
    "labels = ['Negative', 'Neutral', 'Positive']"
   ]
  },
  {
   "cell_type": "code",
   "execution_count": 50,
   "id": "65bb5d5b",
   "metadata": {
    "scrolled": true
   },
   "outputs": [
    {
     "name": "stdout",
     "output_type": "stream",
     "text": [
      "Neutral: 0.7595869036018849\n"
     ]
    }
   ],
   "source": [
    "# Sentiment analysis\n",
    "\n",
    "# Initialise a variable to store the total scores\n",
    "total_scores = np.zeros((1, len(labels)))\n",
    "\n",
    "for tweet_proc in df['processed_text']:\n",
    "    encoded_tweet = tokenizer(tweet_proc, return_tensors='pt')\n",
    "    output = model(encoded_tweet['input_ids'], encoded_tweet['attention_mask'])\n",
    "    logits = output.logits.detach().numpy()  \n",
    "    scores = np.exp(logits) / np.sum(np.exp(logits), axis=1, keepdims=True)\n",
    "    \n",
    "    # Add the scores to the total scores\n",
    "    total_scores += scores\n",
    "    \n",
    "# Calculate the average scores \n",
    "average_scores = total_scores / len(df['processed_text'])\n",
    "\n",
    "# Find the index of the highest average score\n",
    "max_index = np.argmax(average_scores)\n",
    "\n",
    "print(f\"{labels[max_index]}: {average_scores[0][max_index]}\")"
   ]
  }
 ],
 "metadata": {
  "kernelspec": {
   "display_name": "Python 3 (ipykernel)",
   "language": "python",
   "name": "python3"
  },
  "language_info": {
   "codemirror_mode": {
    "name": "ipython",
    "version": 3
   },
   "file_extension": ".py",
   "mimetype": "text/x-python",
   "name": "python",
   "nbconvert_exporter": "python",
   "pygments_lexer": "ipython3",
   "version": "3.11.1"
  }
 },
 "nbformat": 4,
 "nbformat_minor": 5
}
